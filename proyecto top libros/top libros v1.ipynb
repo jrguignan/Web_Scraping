{
 "cells": [
  {
   "cell_type": "code",
   "execution_count": null,
   "metadata": {},
   "outputs": [],
   "source": [
    "from bs4 import BeautifulSoup\n",
    "import requests\n",
    "\n",
    "import pandas as pd\n",
    "from datetime import date\n",
    "from datetime import datetime"
   ]
  },
  {
   "cell_type": "code",
   "execution_count": null,
   "metadata": {},
   "outputs": [],
   "source": [
    "#Empezamos el scraping\n",
    "#Obtener el HTML\n",
    "URL_BASE = 'https://cuspide.com/100-mas-vendidos/'\n",
    "pedido_obtenido = requests.get(URL_BASE)\n",
    "html_obtenido = pedido_obtenido.text\n",
    "\n",
    "#\"Parsear\" ese HTML\n",
    "soup = BeautifulSoup(html_obtenido, \"html.parser\")"
   ]
  },
  {
   "cell_type": "code",
   "execution_count": null,
   "metadata": {},
   "outputs": [],
   "source": [
    "#sirve para sacar nombre y url\n",
    "h3_todos = soup.find_all('h3')\n",
    "list(h3_todos)\n",
    "len(h3_todos)\n",
    "\n",
    "#transformo el contenido de las lista en str, para usar metodos de str\n",
    "for i,l in enumerate(h3_todos):\n",
    "    h3_todos[i] = str(l) \n",
    " "
   ]
  },
  {
   "cell_type": "code",
   "execution_count": null,
   "metadata": {},
   "outputs": [],
   "source": [
    "#Se puede sacar el precio, despues del indice 0\n",
    "bdi_todos = soup.find_all('bdi')\n",
    "list(bdi_todos)\n",
    "len(bdi_todos)\n",
    "\n",
    "#elinimo el primer elemento de la lista\n",
    "bdi_todos.pop(0)\n",
    "\n",
    "#transformo el contenido de las lista en str, para usar metodos de str\n",
    "for i,l in enumerate(bdi_todos):\n",
    "    bdi_todos[i] = str(l) \n"
   ]
  },
  {
   "cell_type": "code",
   "execution_count": null,
   "metadata": {},
   "outputs": [],
   "source": [
    "#separa los str para sacar la informacion\n",
    "nom_url=[]\n",
    "for i,l in enumerate(h3_todos):\n",
    "    nom_url.append(h3_todos[i][l.find('href=')+5 :])\n",
    "    \n",
    "     \n"
   ]
  },
  {
   "cell_type": "code",
   "execution_count": null,
   "metadata": {},
   "outputs": [],
   "source": [
    "#URL\n",
    "#saca la url de la lista de string\n",
    "url_=[]\n",
    "for i,l in enumerate(nom_url):\n",
    "    url_.append(nom_url[i][ :l.find('>')])\n",
    "\n",
    "#quita la comilla doble del string del url\n",
    "for i,l in enumerate(url_):    \n",
    "    url_[i] = l.replace('\"','')\n",
    "   "
   ]
  },
  {
   "cell_type": "code",
   "execution_count": null,
   "metadata": {},
   "outputs": [],
   "source": [
    "#Consigo los nombres de los libros\n",
    "nombre=[]\n",
    "for i,l in enumerate(nom_url):\n",
    "    nombre.append(nom_url[i][l.find('>')+1 : l.find('<')])"
   ]
  },
  {
   "cell_type": "code",
   "execution_count": null,
   "metadata": {},
   "outputs": [],
   "source": [
    "#se tiene el valor de los precios, pero en notacion latina 0.000,00\n",
    "precio=[]\n",
    "for i,l in enumerate(bdi_todos):\n",
    "    precio.append(bdi_todos[i][l.find('\\xa0')+1 : l.rfind('<')])\n",
    "\n",
    "#paso el precion a notacion internacional y transformo en float\n",
    "for i,l in enumerate(precio):\n",
    "     precio[i] = float(l.replace('.','').replace(',','.'))    \n"
   ]
  },
  {
   "cell_type": "code",
   "execution_count": null,
   "metadata": {},
   "outputs": [],
   "source": [
    "#Para la fecha 16/02/24, existen 8 libros sin precio en la pagina\n",
    "#por lo que decidio colocarlos 0 \n",
    "\n",
    "# precio.insert(7,0)\n",
    "# precio.insert(18,0)\n",
    "# precio.insert(22,0)\n",
    "# precio.insert(26,0)\n",
    "# precio.insert(58,0)\n",
    "# precio.insert(67,0)\n",
    "# precio.insert(80,0)\n",
    "# precio.insert(88,0)\n",
    "# precio.insert(95,0)\n",
    "\n"
   ]
  },
  {
   "cell_type": "code",
   "execution_count": null,
   "metadata": {},
   "outputs": [],
   "source": [
    "#crea el datafreme a partir de las listas\n",
    "df = pd.DataFrame(dict(titulo=nombre,url=url_,precio_pesos=precio))"
   ]
  },
  {
   "cell_type": "code",
   "execution_count": null,
   "metadata": {},
   "outputs": [],
   "source": [
    "#scraping para la transformacion de pesos argentinos a dolares\n",
    "#Obtener el HTML\n",
    "URL_BASE1 = 'https://www.google.com/search?q=pesos+argentinos+a+dolares&rlz=1C1CHBD_esCO1034CO1034&oq=pesos+argentinos+&gs_lcrp=EgZjaHJvbWUqCQgAECMYJxiKBTIJCAAQIxgnGIoFMgYIARBFGDkyBwgCEAAYgAQyBwgDEAAYgAQyBwgEEAAYgAQyBwgFEAAYgAQyBwgGEAAYgAQyBwgHEAAYgAQyBwgIEAAYgAQyBwgJEAAYgATSAQg0OTAwajFqN6gCALACAA&sourceid=chrome&ie=UTF-8'\n",
    "pedido_obtenido1 = requests.get(URL_BASE1)\n",
    "html_obtenido1 = pedido_obtenido1.text\n",
    "\n",
    "#\"Parsear\" ese HTML\n",
    "soup1 = BeautifulSoup(html_obtenido1, \"html.parser\")\n",
    "\n",
    "#sirve para sacar nombre y url\n",
    "values_todos = soup1.find_all('h2')\n",
    "list(values_todos)\n",
    "len(values_todos)\n",
    "\n"
   ]
  },
  {
   "cell_type": "code",
   "execution_count": null,
   "metadata": {},
   "outputs": [],
   "source": [
    "#scraping para la transformacion de pesos argentinos a dolares\n",
    "#Obtener el HTML\n",
    "URL_BASE1 = 'https://www.xe.com/es/currencyconverter/convert/?Amount=1&From=ARS&To=USD'\n",
    "pedido_obtenido1 = requests.get(URL_BASE1)\n",
    "html_obtenido1 = pedido_obtenido1.text\n",
    "\n",
    "#\"Parsear\" ese HTML\n",
    "soup1 = BeautifulSoup(html_obtenido1, \"html.parser\")\n",
    "\n",
    "#sirve para sacar nombre y url\n",
    "body = soup1.find_all('body')\n",
    "list(body)\n",
    "body[0] = str(body[0])\n",
    "\n",
    "\n",
    "#toma la parte decimal 0.00\n",
    "indice = int(body[0].find('\"result__BigRate-sc-1bsijpp-1 iGrAod\"'))\n",
    "\n",
    "a = body[0][indice + 38 : indice + 42]\n",
    "#toma los decimaneles luego del 0.00\n",
    "b = body[0][indice + 69: indice + 75]\n",
    "#viene en formato latino, toca pasarlo a formato de usa\n",
    "a = a.replace(',','.')\n",
    "\n",
    "#concadena los calores y los vuelve un string\n",
    "ars_usd = float(a+b)"
   ]
  },
  {
   "cell_type": "code",
   "execution_count": null,
   "metadata": {},
   "outputs": [],
   "source": [
    "#scraping para la transformacion de dolares a euros\n",
    "#Obtener el HTML\n",
    "URL_BASE1 = 'https://www.xe.com/es/currencyconverter/convert/?Amount=1&From=USD&To=EUR'\n",
    "pedido_obtenido1 = requests.get(URL_BASE1)\n",
    "html_obtenido1 = pedido_obtenido1.text\n",
    "\n",
    "#\"Parsear\" ese HTML\n",
    "soup1 = BeautifulSoup(html_obtenido1, \"html.parser\")\n",
    "\n",
    "#sirve para sacar nombre y url\n",
    "body = soup1.find_all('body')\n",
    "list(body)\n",
    "body[0] = str(body[0])\n",
    "\n",
    "#toma la parte decimal 0.00\n",
    "indice = int(body[0].find('\"result__BigRate-sc-1bsijpp-1 iGrAod\"'))\n",
    "\n",
    "a = body[0][indice + 38 : indice + 42]\n",
    "#toma los decimaneles luego del 0.00\n",
    "b = body[0][indice + 69: indice + 74]\n",
    "#viene en formato latino, toca pasarlo a formato de usa\n",
    "a = a.replace(',','.')\n",
    "\n",
    "#concadena los calores y los vuelve un string\n",
    "usd_eur = float(a+b)"
   ]
  },
  {
   "cell_type": "code",
   "execution_count": null,
   "metadata": {},
   "outputs": [],
   "source": [
    "#agregar columna de precio en dolares y euros\n",
    "df['precio_dolar'] = df['precio_pesos']*ars_usd\n",
    "df['precio_euro'] = df['precio_dolar']*usd_eur"
   ]
  },
  {
   "cell_type": "code",
   "execution_count": null,
   "metadata": {},
   "outputs": [],
   "source": [
    "\n",
    "df['precio_dolar'] = df['precio_dolar'].round(2)\n",
    "df['precio_euro'] = df['precio_euro'].round(2)"
   ]
  },
  {
   "cell_type": "code",
   "execution_count": null,
   "metadata": {},
   "outputs": [],
   "source": [
    "\n",
    "#Agregar la fecha\n",
    "now = datetime.now()\n",
    "#format = now.strftime('%d/%m/%Y')\n",
    "\n",
    "df['fecha'] = now.strftime('%d/%m/%Y')\n"
   ]
  },
  {
   "cell_type": "code",
   "execution_count": null,
   "metadata": {},
   "outputs": [],
   "source": [
    "df.to_csv('toplibrosv1.csv', index=False)"
   ]
  }
 ],
 "metadata": {
  "kernelspec": {
   "display_name": "Python 3",
   "language": "python",
   "name": "python3"
  },
  "language_info": {
   "codemirror_mode": {
    "name": "ipython",
    "version": 3
   },
   "file_extension": ".py",
   "mimetype": "text/x-python",
   "name": "python",
   "nbconvert_exporter": "python",
   "pygments_lexer": "ipython3",
   "version": "3.11.5"
  },
  "orig_nbformat": 4
 },
 "nbformat": 4,
 "nbformat_minor": 2
}
