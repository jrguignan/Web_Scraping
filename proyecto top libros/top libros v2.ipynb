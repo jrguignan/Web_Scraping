{
 "cells": [
  {
   "cell_type": "code",
   "execution_count": 1,
   "metadata": {},
   "outputs": [],
   "source": [
    "from bs4 import BeautifulSoup\n",
    "import requests\n",
    "import numpy as np\n",
    "import pandas as pd\n",
    "from datetime import date\n",
    "from datetime import datetime\n",
    "from time import sleep"
   ]
  },
  {
   "cell_type": "code",
   "execution_count": 2,
   "metadata": {},
   "outputs": [],
   "source": [
    "\n",
    "#Empezamos el scraping\n",
    "#Obtener el HTML\n",
    "URL_BASE = 'https://cuspide.com/100-mas-vendidos/'\n",
    "pedido_obtenido = requests.get(URL_BASE)\n",
    "html_obtenido = pedido_obtenido.text\n",
    "\n",
    "#\"Parsear\" ese HTML\n",
    "soup = BeautifulSoup(html_obtenido, \"html.parser\")\n",
    "#sirve para sacar nombre y url\n",
    "h3_todos = soup.find_all('h3')\n",
    "list(h3_todos)\n",
    "len(h3_todos)\n",
    "\n",
    "#transformo el contenido de las lista en str, para usar metodos de str\n",
    "for i,l in enumerate(h3_todos):\n",
    "    h3_todos[i] = str(l) \n",
    " \n",
    "#Se puede sacar el precio, despues del indice 0\n",
    "bdi_todos = soup.find_all('bdi')\n",
    "list(bdi_todos)\n",
    "len(bdi_todos)\n",
    "\n",
    "#elinimo el primer elemento de la lista\n",
    "bdi_todos.pop(0)\n",
    "\n",
    "#transformo el contenido de las lista en str, para usar metodos de str\n",
    "for i,l in enumerate(bdi_todos):\n",
    "    bdi_todos[i] = str(l) \n",
    "\n",
    "#separa los str para sacar la informacion\n",
    "nom_url=[]\n",
    "for i,l in enumerate(h3_todos):\n",
    "    nom_url.append(h3_todos[i][l.find('href=')+5 :])\n",
    "    \n",
    "#URL\n",
    "#saca la url de la lista de string\n",
    "url_=[]\n",
    "for i,l in enumerate(nom_url):\n",
    "    url_.append(nom_url[i][ :l.find('>')])\n",
    "\n",
    "#quita la comilla doble del string del url\n",
    "for i,l in enumerate(url_):    \n",
    "    url_[i] = l.replace('\"','')\n",
    "   \n",
    "#Consigo los nombres de los libros\n",
    "nombre=[]\n",
    "for i,l in enumerate(nom_url):\n",
    "    nombre.append(nom_url[i][l.find('>')+1 : l.find('<')])"
   ]
  },
  {
   "cell_type": "code",
   "execution_count": 3,
   "metadata": {},
   "outputs": [
    {
     "name": "stdout",
     "output_type": "stream",
     "text": [
      "Tenga paciencia se va a demorar poco mas de 6 minutos\n",
      "Be patient, it will take a little more than 6 minutes.\n"
     ]
    }
   ],
   "source": [
    "#Empezamos el scraping para sacar el monto en pesos y en dolares por cada url de libro\n",
    "#Obtener el HTML\n",
    "precio=[]\n",
    "precio_dolar=[]\n",
    "print('Tenga paciencia se va a demorar poco mas de 6 minutos')\n",
    "print('Be patient, it will take a little more than 6 minutes.')\n",
    "\n",
    "\n",
    "for i in range(0,len(url_)):\n",
    "    URL_BASE = url_[i]\n",
    "    pedido_obtenido = requests.get(URL_BASE)\n",
    "    #para dar tiempo que carge la url\n",
    "    sleep(2)\n",
    "    html_obtenido = pedido_obtenido.text\n",
    "    #\"Parsear\" ese HTML\n",
    "    soup = BeautifulSoup(html_obtenido, \"html.parser\")\n",
    "\n",
    "    #sirve para sacar precio en pesos\n",
    "    preciopesos = soup.find(class_=\"price product-page-price\").text\n",
    "    precio.append(float(preciopesos[preciopesos.find('\\n$\\xa0')+3:preciopesos.find('\\n$\\xa0')+12].replace('.','').replace(',','.')))\n",
    "\n",
    "    #sirve para sacar precio en dolares\n",
    "    precio_dolar.append(float(soup.find('span',style=\"font-size: 1.3em\").text.replace('.','').replace(',','.')))\n",
    "\n",
    "\n"
   ]
  },
  {
   "cell_type": "code",
   "execution_count": null,
   "metadata": {},
   "outputs": [],
   "source": [
    "#scraping para la transformacion de dolares a euros\n",
    "#Obtener el HTML\n",
    "URL_BASE1 = 'https://www.xe.com/es/currencyconverter/convert/?Amount=1&From=USD&To=EUR'\n",
    "pedido_obtenido1 = requests.get(URL_BASE1)\n",
    "html_obtenido1 = pedido_obtenido1.text\n",
    "\n",
    "#\"Parsear\" ese HTML\n",
    "soup1 = BeautifulSoup(html_obtenido1, \"html.parser\")\n",
    "\n",
    "#sirve para sacar nombre y url\n",
    "body = soup1.find_all('body')\n",
    "list(body)\n",
    "body[0] = str(body[0])\n",
    "\n",
    "#toma la parte decimal 0.00\n",
    "indice = int(body[0].find('\"result__BigRate-sc-1bsijpp-1 iGrAod\"'))\n",
    "\n",
    "a = body[0][indice + 38 : indice + 42]\n",
    "#toma los decimaneles luego del 0.00\n",
    "b = body[0][indice + 69: indice + 75]\n",
    "#viene en formato latino, toca pasarlo a formato de usa\n",
    "a = a.replace(',','.')\n",
    "\n",
    "#concadena los calores y los vuelve un string\n",
    "usd_eur = float(a+b)"
   ]
  },
  {
   "cell_type": "code",
   "execution_count": null,
   "metadata": {},
   "outputs": [],
   "source": [
    "#Agregar columna de precio en dolares y euros\n",
    "#toca trabajar como arreglo de numpy\n",
    "precio_dolar = np.array(precio_dolar).round(2)\n",
    "precio_euro = (precio_dolar*usd_eur).round(2)\n",
    "\n",
    "#transforma los arreglos a lista\n",
    "precio_dolar = list(precio_dolar)\n",
    "precio_euro = list(precio_euro)"
   ]
  },
  {
   "cell_type": "code",
   "execution_count": null,
   "metadata": {},
   "outputs": [],
   "source": [
    "#genera una lista con la fecha\n",
    "now = datetime.now()\n",
    "fecha=[]\n",
    "for i in nombre:\n",
    "    fecha.append(now.strftime(\"%Y-%m-%d\"))"
   ]
  },
  {
   "cell_type": "code",
   "execution_count": null,
   "metadata": {},
   "outputs": [],
   "source": [
    "df = pd.DataFrame({'Nombre':nombre,'URL':url_, 'Precio':precio, 'Precio_Dolar':precio_dolar, 'Precio_Euro':precio_euro       })"
   ]
  },
  {
   "cell_type": "code",
   "execution_count": null,
   "metadata": {},
   "outputs": [],
   "source": [
    "df.to_csv('toplibrosv2.csv', index=False)"
   ]
  }
 ],
 "metadata": {
  "kernelspec": {
   "display_name": "Python 3",
   "language": "python",
   "name": "python3"
  },
  "language_info": {
   "codemirror_mode": {
    "name": "ipython",
    "version": 3
   },
   "file_extension": ".py",
   "mimetype": "text/x-python",
   "name": "python",
   "nbconvert_exporter": "python",
   "pygments_lexer": "ipython3",
   "version": "3.11.5"
  }
 },
 "nbformat": 4,
 "nbformat_minor": 2
}
