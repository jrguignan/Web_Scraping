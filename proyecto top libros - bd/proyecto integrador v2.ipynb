{
 "cells": [
  {
   "cell_type": "code",
   "execution_count": 56,
   "metadata": {},
   "outputs": [],
   "source": [
    "import numpy as np\n",
    "from bs4 import BeautifulSoup\n",
    "import requests\n",
    "import pymysql \n",
    "from datetime import date\n",
    "from datetime import datetime"
   ]
  },
  {
   "cell_type": "code",
   "execution_count": 57,
   "metadata": {},
   "outputs": [],
   "source": [
    "#Empezamos el scraping\n",
    "#Obtener el HTML\n",
    "URL_BASE = 'https://cuspide.com/100-mas-vendidos/'\n",
    "pedido_obtenido = requests.get(URL_BASE)\n",
    "html_obtenido = pedido_obtenido.text\n",
    "\n",
    "#\"Parsear\" ese HTML\n",
    "soup = BeautifulSoup(html_obtenido, \"html.parser\")"
   ]
  },
  {
   "cell_type": "code",
   "execution_count": 58,
   "metadata": {},
   "outputs": [],
   "source": [
    "#sirve para sacar nombre y url\n",
    "h3_todos = soup.find_all('h3')\n",
    "list(h3_todos)\n",
    "len(h3_todos)\n",
    "\n",
    "#transformo el contenido de las lista en str, para usar metodos de str\n",
    "for i,l in enumerate(h3_todos):\n",
    "    h3_todos[i] = str(l) "
   ]
  },
  {
   "cell_type": "code",
   "execution_count": 59,
   "metadata": {},
   "outputs": [],
   "source": [
    "#Se puede sacar el precio, despues del indice 0\n",
    "bdi_todos = soup.find_all('bdi')\n",
    "list(bdi_todos)\n",
    "len(bdi_todos)\n",
    "\n",
    "#elinimo el primer elemento de la lista\n",
    "bdi_todos.pop(0)\n",
    "\n",
    "#transformo el contenido de las lista en str, para usar metodos de str\n",
    "for i,l in enumerate(bdi_todos):\n",
    "    bdi_todos[i] = str(l) "
   ]
  },
  {
   "cell_type": "code",
   "execution_count": 60,
   "metadata": {},
   "outputs": [],
   "source": [
    "#separa los str para sacar la informacion\n",
    "nom_url=[]\n",
    "for i,l in enumerate(h3_todos):\n",
    "    nom_url.append(h3_todos[i][l.find('href=')+5 :])"
   ]
  },
  {
   "cell_type": "code",
   "execution_count": 61,
   "metadata": {},
   "outputs": [],
   "source": [
    "#URL\n",
    "#saca la url de la lista de string\n",
    "url_=[]\n",
    "for i,l in enumerate(nom_url):\n",
    "    url_.append(nom_url[i][ :l.find('>')])\n",
    "\n",
    "#quita la comilla doble del string del url\n",
    "for i,l in enumerate(url_):    \n",
    "    url_[i] = l.replace('\"','')"
   ]
  },
  {
   "cell_type": "code",
   "execution_count": 62,
   "metadata": {},
   "outputs": [],
   "source": [
    "#Consigo los nombres de los libros\n",
    "nombre=[]\n",
    "for i,l in enumerate(nom_url):\n",
    "    nombre.append(nom_url[i][l.find('>')+1 : l.find('<')])"
   ]
  },
  {
   "cell_type": "code",
   "execution_count": 63,
   "metadata": {},
   "outputs": [],
   "source": [
    "#se tiene el valor de los precios, pero en notacion latina 0.000,00\n",
    "precio=[]\n",
    "for i,l in enumerate(bdi_todos):\n",
    "    precio.append(bdi_todos[i][l.find('\\xa0')+1 : l.rfind('<')])\n",
    "\n",
    "#paso el precion a notacion internacional y transformo en float\n",
    "for i,l in enumerate(precio):\n",
    "     precio[i] = float(l.replace('.','').replace(',','.'))    "
   ]
  },
  {
   "cell_type": "code",
   "execution_count": 64,
   "metadata": {},
   "outputs": [],
   "source": [
    "#scraping para la transformacion de pesos argentinos a dolares\n",
    "#Obtener el HTML\n",
    "URL_BASE1 = 'https://www.xe.com/es/currencyconverter/convert/?Amount=1&From=ARS&To=USD'\n",
    "pedido_obtenido1 = requests.get(URL_BASE1)\n",
    "html_obtenido1 = pedido_obtenido1.text\n",
    "\n",
    "#\"Parsear\" ese HTML\n",
    "soup1 = BeautifulSoup(html_obtenido1, \"html.parser\")\n",
    "\n",
    "#sirve para sacar nombre y url\n",
    "body = soup1.find_all('body')\n",
    "list(body)\n",
    "body[0] = str(body[0])\n",
    "\n",
    "\n",
    "#toma la parte decimal 0.00\n",
    "indice = int(body[0].find('\"result__BigRate-sc-1bsijpp-1 iGrAod\"'))\n",
    "\n",
    "a = body[0][indice + 38 : indice + 42]\n",
    "#toma los decimaneles luego del 0.00\n",
    "b = body[0][indice + 69: indice + 74]\n",
    "#viene en formato latino, toca pasarlo a formato de usa\n",
    "a = a.replace(',','.')\n",
    "\n",
    "#concadena los calores y los vuelve un string\n",
    "ars_usd = float(a+b)"
   ]
  },
  {
   "cell_type": "code",
   "execution_count": 65,
   "metadata": {},
   "outputs": [],
   "source": [
    "#scraping para la transformacion de dolares a euros\n",
    "#Obtener el HTML\n",
    "URL_BASE1 = 'https://www.xe.com/es/currencyconverter/convert/?Amount=1&From=USD&To=EUR'\n",
    "pedido_obtenido1 = requests.get(URL_BASE1)\n",
    "html_obtenido1 = pedido_obtenido1.text\n",
    "\n",
    "#\"Parsear\" ese HTML\n",
    "soup1 = BeautifulSoup(html_obtenido1, \"html.parser\")\n",
    "\n",
    "#sirve para sacar nombre y url\n",
    "body = soup1.find_all('body')\n",
    "list(body)\n",
    "body[0] = str(body[0])\n",
    "\n",
    "#toma la parte decimal 0.00\n",
    "indice = int(body[0].find('\"result__BigRate-sc-1bsijpp-1 iGrAod\"'))\n",
    "\n",
    "a = body[0][indice + 38 : indice + 42]\n",
    "#toma los decimaneles luego del 0.00\n",
    "b = body[0][indice + 69: indice + 75]\n",
    "#viene en formato latino, toca pasarlo a formato de usa\n",
    "a = a.replace(',','.')\n",
    "\n",
    "#concadena los calores y los vuelve un string\n",
    "usd_eur = float(a+b)"
   ]
  },
  {
   "cell_type": "code",
   "execution_count": 66,
   "metadata": {},
   "outputs": [],
   "source": [
    "#Agregar columna de precio en dolares y euros\n",
    "#toca trabajar como arreglo de numpy\n",
    "precio = np.array(precio).round(2)\n",
    "precio_dolar = (precio*ars_usd).round(2)\n",
    "precio_euro = (precio_dolar*usd_eur).round(2)\n",
    "\n",
    "#transforma los arreglos a lista\n",
    "precio = list(precio)\n",
    "precio_dolar = list(precio_dolar)\n",
    "precio_euro = list(precio_euro)\n"
   ]
  },
  {
   "cell_type": "code",
   "execution_count": 67,
   "metadata": {},
   "outputs": [],
   "source": [
    "#genera una lista con la fecha\n",
    "now = datetime.now()\n",
    "fecha=[]\n",
    "fecha1=[]\n",
    "for i in nombre:\n",
    " fecha.append(now.strftime(\"%Y-%m-%d\"))\n"
   ]
  },
  {
   "cell_type": "code",
   "execution_count": 68,
   "metadata": {},
   "outputs": [],
   "source": [
    "#transforma las listas con los datos a una lista de tuplas\n",
    "pre_lista=[]\n",
    "datos=[]\n",
    "\n",
    "for i in range(0,len(nombre)): \n",
    "    pre_lista = [nombre[i], url_[i], precio[i], precio_dolar[i], precio_euro[i], fecha[i]]\n",
    "    datos.append(tuple(pre_lista))"
   ]
  },
  {
   "cell_type": "code",
   "execution_count": 69,
   "metadata": {},
   "outputs": [],
   "source": [
    "#Establece la conexion con el servidor local, sin especificar la base de datos\n",
    "conexion = pymysql.connect( host='localhost', user='root', passwd='6206')\n",
    "#crea cursor\n",
    "cursor = conexion.cursor()"
   ]
  },
  {
   "cell_type": "code",
   "execution_count": 70,
   "metadata": {},
   "outputs": [
    {
     "data": {
      "text/plain": [
       "1"
      ]
     },
     "execution_count": 70,
     "metadata": {},
     "output_type": "execute_result"
    }
   ],
   "source": [
    "#crea la base de datos\n",
    "crear_base = \"\"\" CREATE DATABASE IF NOT EXISTS top_libros; \"\"\"\n",
    "cursor.execute(crear_base)"
   ]
  },
  {
   "cell_type": "code",
   "execution_count": 71,
   "metadata": {},
   "outputs": [],
   "source": [
    "#cierro y vuelvo a abrir la concexion ya dentro de la base de datos creada\n",
    "#si no lo hago da un error, no me sirvio usar USE oferta_gastronomica;\n",
    "\n",
    "conexion.close()\n",
    "#Establece la conexion con el servidor local, ya dento de base de datos\n",
    "conexion = pymysql.connect( host='localhost', user='root', passwd='6206', db='top_libros' ) \n",
    "#crea cursor\n",
    "cursor = conexion.cursor()"
   ]
  },
  {
   "cell_type": "code",
   "execution_count": 72,
   "metadata": {},
   "outputs": [
    {
     "data": {
      "text/plain": [
       "0"
      ]
     },
     "execution_count": 72,
     "metadata": {},
     "output_type": "execute_result"
    }
   ],
   "source": [
    "#Crear tabla\n",
    "crear_tabla = \"\"\"\n",
    "    CREATE TABLE  top (\n",
    "\tidLibro INT NOT NULL AUTO_INCREMENT,\n",
    "    titulo VARCHAR (60),\n",
    "    url VARCHAR (120),\n",
    "    precio FLOAT (2),\n",
    "    precio_dolar FLOAT (2),\n",
    "    precio_euro FLOAT (2),\n",
    "    fecha DATE,\n",
    "    PRIMARY KEY (idLibro)\n",
    "    );\"\"\"\n",
    "cursor.execute(crear_tabla)\n"
   ]
  },
  {
   "cell_type": "code",
   "execution_count": 73,
   "metadata": {},
   "outputs": [
    {
     "data": {
      "text/plain": [
       "0"
      ]
     },
     "execution_count": 73,
     "metadata": {},
     "output_type": "execute_result"
    }
   ],
   "source": [
    "#Crear tabla de errores\n",
    "# crear_tabla = \"\"\"\n",
    "#     CREATE TABLE  errores (\n",
    "# \tidError INT NOT NULL AUTO_INCREMENT,\n",
    "#     titulo VARCHAR (60),\n",
    "#     url VARCHAR (120),\n",
    "#     fecha DATE,\n",
    "#     PRIMARY KEY (idError)\n",
    "#     );\"\"\"\n",
    "# cursor.execute(crear_tabla)"
   ]
  },
  {
   "cell_type": "code",
   "execution_count": 74,
   "metadata": {},
   "outputs": [
    {
     "data": {
      "text/plain": [
       "91"
      ]
     },
     "execution_count": 74,
     "metadata": {},
     "output_type": "execute_result"
    }
   ],
   "source": [
    "#insertar valores\n",
    "cursor.executemany(\"INSERT INTO top (titulo, url, precio, precio_dolar, precio_euro, fecha) VALUES (%s, %s, %s, %s, %s, %s)\", datos)"
   ]
  },
  {
   "cell_type": "code",
   "execution_count": 75,
   "metadata": {},
   "outputs": [],
   "source": [
    "#para insertar los datos en la tabla\n",
    "conexion.commit()\n",
    "#cierra conexion\n",
    "conexion.close()"
   ]
  }
 ],
 "metadata": {
  "kernelspec": {
   "display_name": "Python 3",
   "language": "python",
   "name": "python3"
  },
  "language_info": {
   "codemirror_mode": {
    "name": "ipython",
    "version": 3
   },
   "file_extension": ".py",
   "mimetype": "text/x-python",
   "name": "python",
   "nbconvert_exporter": "python",
   "pygments_lexer": "ipython3",
   "version": "3.11.5"
  }
 },
 "nbformat": 4,
 "nbformat_minor": 2
}
