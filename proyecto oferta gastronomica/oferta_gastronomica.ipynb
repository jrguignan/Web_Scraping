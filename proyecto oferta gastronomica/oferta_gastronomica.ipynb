{
 "cells": [
  {
   "cell_type": "code",
   "execution_count": 80,
   "metadata": {},
   "outputs": [],
   "source": [
    "import pymysql\n",
    "import requests"
   ]
  },
  {
   "cell_type": "code",
   "execution_count": null,
   "metadata": {},
   "outputs": [],
   "source": [
    "#Se deben colocar loa datos correctos en la parte del codigo donde se genera la conexion con mysql, de lo contrario\n",
    "#no funcionara la creacion y el volcado de datos de la base de datos"
   ]
  },
  {
   "cell_type": "markdown",
   "metadata": {},
   "source": [
    "### Ingesta un CVS desde un link de descarga, se limpian y ordenan los datos ###"
   ]
  },
  {
   "cell_type": "code",
   "execution_count": 81,
   "metadata": {},
   "outputs": [],
   "source": [
    "#saca el contenido del csv como un string, directo del link de descarga del .csv\n",
    "URL_BASE = 'https://cdn.buenosaires.gob.ar/datosabiertos/datasets/ente-de-turismo/oferta-establecimientos-gastronomicos/oferta_gastronomica.csv'\n",
    "pedido_obtenido = requests.get(URL_BASE)\n",
    "html_obtenido = pedido_obtenido.text"
   ]
  },
  {
   "cell_type": "code",
   "execution_count": 82,
   "metadata": {},
   "outputs": [
    {
     "data": {
      "text/plain": [
       "['']"
      ]
     },
     "execution_count": 82,
     "metadata": {},
     "output_type": "execute_result"
    }
   ],
   "source": [
    "#quitas las comillas con las que ya viene el string\n",
    "html_obtenido = html_obtenido.replace('\"','')\n",
    "#divide el string por linea y le quita salto de lineas y \\r\n",
    "linea = html_obtenido.replace('\\r','').split('\\n')\n",
    "\n",
    "#separa los elementos que conforman cada linea\n",
    "dentro=[]\n",
    "for i in linea:\n",
    "    dentro.append(i.split(','))\n",
    "\n",
    "#la ultima linea de dentro esta vacia, por lo que se debe limpiar\n",
    "dentro.pop(-1)    "
   ]
  },
  {
   "cell_type": "code",
   "execution_count": 83,
   "metadata": {},
   "outputs": [],
   "source": [
    "#saca los datos de nombre,categoria,barrio,comuna\n",
    "nombre=[]\n",
    "categoria=[]\n",
    "barrio=[]\n",
    "comuna=[]\n",
    "for i in range(0,len(dentro)):\n",
    "   nombre.append(dentro[i][3])\n",
    "   categoria.append(dentro[i][4])\n",
    "   barrio.append(dentro[i][-4])\n",
    "   comuna.append(dentro[i][-3])\n",
    "\n",
    "#cambia los vacios por 'NULL' en categoria\n",
    "for i,l in enumerate(categoria):\n",
    "    if l == '' :\n",
    "        categoria[i] = 'NULL'\n",
    "  "
   ]
  },
  {
   "cell_type": "code",
   "execution_count": 84,
   "metadata": {},
   "outputs": [],
   "source": [
    "#para sacar el valor de direccion, porque tenia varias ',' dentro de los campos\n",
    "direccion=[]\n",
    "for i in range(0,len(dentro)):\n",
    "   largo=len(dentro[i])\n",
    "#si tiene len 19\n",
    "   if largo == 19:\n",
    "      direccion.append(dentro[i][13]+','+dentro[i][14])\n",
    "#si tiene len 20\n",
    "   elif largo == 20:\n",
    "       direccion.append(dentro[i][13]+','+dentro[1][14] +','+dentro[i][15])\n",
    "#si tiene len 18\n",
    "   else:\n",
    "       direccion.append(dentro[i][13])"
   ]
  },
  {
   "cell_type": "code",
   "execution_count": 85,
   "metadata": {},
   "outputs": [
    {
     "data": {
      "text/plain": [
       "['nombre', 'categoria', 'direccion_completa', 'barrio', 'comuna']"
      ]
     },
     "execution_count": 85,
     "metadata": {},
     "output_type": "execute_result"
    }
   ],
   "source": [
    "#toca sacar los primeros elementos de las lista, porque no son los datos\n",
    "#los guardo en una lista con los nombre de las columnas\n",
    "columnas =[nombre.pop(0), categoria.pop(0), direccion.pop(0), barrio.pop(0), comuna.pop(0)]\n",
    "columnas\n"
   ]
  },
  {
   "cell_type": "code",
   "execution_count": 90,
   "metadata": {},
   "outputs": [],
   "source": [
    "#transforma las listas con los datos a una lista de tuplas\n",
    "pre_lista=[]\n",
    "datos=[]\n",
    "\n",
    "for i in range(0,len(nombre)): \n",
    "    pre_lista = [nombre[i], categoria[i], direccion[i], barrio[i], comuna[i]]\n",
    "    datos.append(tuple(pre_lista))"
   ]
  },
  {
   "cell_type": "markdown",
   "metadata": {},
   "source": [
    "### Crea una base de datos y sube los datos a una base de datos local de mysql ###"
   ]
  },
  {
   "cell_type": "code",
   "execution_count": 86,
   "metadata": {},
   "outputs": [],
   "source": [
    "#Establece la conexion con el servidor local, sin especificar la base de datos\n",
    "conexion = pymysql.connect( host='localhost', user='root', passwd='yourpassword')\n",
    "#crea cursor\n",
    "cursor = conexion.cursor()\n"
   ]
  },
  {
   "cell_type": "code",
   "execution_count": 87,
   "metadata": {},
   "outputs": [
    {
     "data": {
      "text/plain": [
       "1"
      ]
     },
     "execution_count": 87,
     "metadata": {},
     "output_type": "execute_result"
    }
   ],
   "source": [
    "#crea la base de datos\n",
    "crear_base = \"\"\" CREATE DATABASE IF NOT EXISTS oferta_gastronomica; \"\"\"\n",
    "cursor.execute(crear_base)\n"
   ]
  },
  {
   "cell_type": "code",
   "execution_count": 88,
   "metadata": {},
   "outputs": [],
   "source": [
    "#cierro y vuelvo a abrir la concexion ya dentro de la base de datos creada\n",
    "#si no lo hago da un error, no me sirvio usar USE oferta_gastronomica;\n",
    "\n",
    "conexion.close()\n",
    "#Establece la conexion con el servidor local, ya dento de base de datos\n",
    "conexion = pymysql.connect( host='localhost', user='root', passwd='yourpassword', db='oferta_gastronomica' ) \n",
    "#crea cursor\n",
    "cursor = conexion.cursor()"
   ]
  },
  {
   "cell_type": "code",
   "execution_count": 89,
   "metadata": {},
   "outputs": [
    {
     "data": {
      "text/plain": [
       "0"
      ]
     },
     "execution_count": 89,
     "metadata": {},
     "output_type": "execute_result"
    }
   ],
   "source": [
    "#Crear tabla\n",
    "crear_tabla = \"\"\"\n",
    "    CREATE TABLE  oferta (\n",
    "\tid_local INT NOT NULL AUTO_INCREMENT,\n",
    "    nombre VARCHAR (40),\n",
    "    categoria VARCHAR (40),\n",
    "    direccion VARCHAR (80),\n",
    "    barrio VARCHAR (40),\n",
    "    comuna VARCHAR (40),\n",
    "    PRIMARY KEY (id_local)\n",
    "    );\"\"\"\n",
    "cursor.execute(crear_tabla)\n"
   ]
  },
  {
   "cell_type": "code",
   "execution_count": 91,
   "metadata": {},
   "outputs": [
    {
     "data": {
      "text/plain": [
       "2823"
      ]
     },
     "execution_count": 91,
     "metadata": {},
     "output_type": "execute_result"
    }
   ],
   "source": [
    "#insertar valores\n",
    "cursor.executemany(\"INSERT INTO oferta (nombre, categoria, direccion, barrio, comuna) VALUES (%s, %s, %s, %s, %s)\", datos)"
   ]
  },
  {
   "cell_type": "code",
   "execution_count": 92,
   "metadata": {},
   "outputs": [],
   "source": [
    "#para insertar los datos en la tabla\n",
    "conexion.commit()\n",
    "#cierra conexion\n",
    "conexion.close()"
   ]
  }
 ],
 "metadata": {
  "kernelspec": {
   "display_name": "Python 3",
   "language": "python",
   "name": "python3"
  },
  "language_info": {
   "codemirror_mode": {
    "name": "ipython",
    "version": 3
   },
   "file_extension": ".py",
   "mimetype": "text/x-python",
   "name": "python",
   "nbconvert_exporter": "python",
   "pygments_lexer": "ipython3",
   "version": "3.11.5"
  }
 },
 "nbformat": 4,
 "nbformat_minor": 2
}
